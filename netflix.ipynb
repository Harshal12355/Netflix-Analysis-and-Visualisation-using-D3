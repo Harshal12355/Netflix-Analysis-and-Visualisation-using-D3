{
 "cells": [
  {
   "cell_type": "code",
   "execution_count": 8,
   "metadata": {},
   "outputs": [],
   "source": [
    "import pandas as pd\n",
    "import numpy as np\n",
    "import matplotlib.pyplot as plt\n",
    "import seaborn as sns\n",
    "import os\n",
    "\n",
    "# make filepath to netflix2019.csv\n",
    "df = pd.read_csv(\"C:/Users/harsh/Downloads/netflix_titles_nov_2019.csv/data/netflix2019.csv\")"
   ]
  },
  {
   "cell_type": "code",
   "execution_count": 9,
   "metadata": {},
   "outputs": [
    {
     "data": {
      "text/html": [
       "<div>\n",
       "<style scoped>\n",
       "    .dataframe tbody tr th:only-of-type {\n",
       "        vertical-align: middle;\n",
       "    }\n",
       "\n",
       "    .dataframe tbody tr th {\n",
       "        vertical-align: top;\n",
       "    }\n",
       "\n",
       "    .dataframe thead th {\n",
       "        text-align: right;\n",
       "    }\n",
       "</style>\n",
       "<table border=\"1\" class=\"dataframe\">\n",
       "  <thead>\n",
       "    <tr style=\"text-align: right;\">\n",
       "      <th></th>\n",
       "      <th>show_id</th>\n",
       "      <th>title</th>\n",
       "      <th>director</th>\n",
       "      <th>cast</th>\n",
       "      <th>country</th>\n",
       "      <th>date_added</th>\n",
       "      <th>release_year</th>\n",
       "      <th>rating</th>\n",
       "      <th>duration</th>\n",
       "      <th>listed_in</th>\n",
       "      <th>description</th>\n",
       "      <th>type</th>\n",
       "    </tr>\n",
       "  </thead>\n",
       "  <tbody>\n",
       "    <tr>\n",
       "      <th>0</th>\n",
       "      <td>81193313</td>\n",
       "      <td>Chocolate</td>\n",
       "      <td>NaN</td>\n",
       "      <td>Ha Ji-won, Yoon Kye-sang, Jang Seung-jo, Kang ...</td>\n",
       "      <td>South Korea</td>\n",
       "      <td>November 30, 2019</td>\n",
       "      <td>2019</td>\n",
       "      <td>TV-14</td>\n",
       "      <td>1 Season</td>\n",
       "      <td>International TV Shows, Korean TV Shows, Roman...</td>\n",
       "      <td>Brought together by meaningful meals in the pa...</td>\n",
       "      <td>TV Show</td>\n",
       "    </tr>\n",
       "    <tr>\n",
       "      <th>1</th>\n",
       "      <td>81197050</td>\n",
       "      <td>Guatemala: Heart of the Mayan World</td>\n",
       "      <td>Luis Ara, Ignacio Jaunsolo</td>\n",
       "      <td>Christian Morales</td>\n",
       "      <td>NaN</td>\n",
       "      <td>November 30, 2019</td>\n",
       "      <td>2019</td>\n",
       "      <td>TV-G</td>\n",
       "      <td>67 min</td>\n",
       "      <td>Documentaries, International Movies</td>\n",
       "      <td>From Sierra de las Minas to Esquipulas, explor...</td>\n",
       "      <td>Movie</td>\n",
       "    </tr>\n",
       "    <tr>\n",
       "      <th>2</th>\n",
       "      <td>81213894</td>\n",
       "      <td>The Zoya Factor</td>\n",
       "      <td>Abhishek Sharma</td>\n",
       "      <td>Sonam Kapoor, Dulquer Salmaan, Sanjay Kapoor, ...</td>\n",
       "      <td>India</td>\n",
       "      <td>November 30, 2019</td>\n",
       "      <td>2019</td>\n",
       "      <td>TV-14</td>\n",
       "      <td>135 min</td>\n",
       "      <td>Comedies, Dramas, International Movies</td>\n",
       "      <td>A goofy copywriter unwittingly convinces the I...</td>\n",
       "      <td>Movie</td>\n",
       "    </tr>\n",
       "    <tr>\n",
       "      <th>3</th>\n",
       "      <td>81082007</td>\n",
       "      <td>Atlantics</td>\n",
       "      <td>Mati Diop</td>\n",
       "      <td>Mama Sane, Amadou Mbow, Ibrahima Traore, Nicol...</td>\n",
       "      <td>France, Senegal, Belgium</td>\n",
       "      <td>November 29, 2019</td>\n",
       "      <td>2019</td>\n",
       "      <td>TV-14</td>\n",
       "      <td>106 min</td>\n",
       "      <td>Dramas, Independent Movies, International Movies</td>\n",
       "      <td>Arranged to marry a rich man, young Ada is cru...</td>\n",
       "      <td>Movie</td>\n",
       "    </tr>\n",
       "    <tr>\n",
       "      <th>4</th>\n",
       "      <td>80213643</td>\n",
       "      <td>Chip and Potato</td>\n",
       "      <td>NaN</td>\n",
       "      <td>Abigail Oliver, Andrea Libman, Briana Buckmast...</td>\n",
       "      <td>Canada, United Kingdom</td>\n",
       "      <td>NaN</td>\n",
       "      <td>2019</td>\n",
       "      <td>TV-Y</td>\n",
       "      <td>2 Seasons</td>\n",
       "      <td>Kids' TV</td>\n",
       "      <td>Lovable pug Chip starts kindergarten, makes ne...</td>\n",
       "      <td>TV Show</td>\n",
       "    </tr>\n",
       "  </tbody>\n",
       "</table>\n",
       "</div>"
      ],
      "text/plain": [
       "    show_id                                title                    director  \\\n",
       "0  81193313                            Chocolate                         NaN   \n",
       "1  81197050  Guatemala: Heart of the Mayan World  Luis Ara, Ignacio Jaunsolo   \n",
       "2  81213894                      The Zoya Factor             Abhishek Sharma   \n",
       "3  81082007                            Atlantics                   Mati Diop   \n",
       "4  80213643                      Chip and Potato                         NaN   \n",
       "\n",
       "                                                cast  \\\n",
       "0  Ha Ji-won, Yoon Kye-sang, Jang Seung-jo, Kang ...   \n",
       "1                                  Christian Morales   \n",
       "2  Sonam Kapoor, Dulquer Salmaan, Sanjay Kapoor, ...   \n",
       "3  Mama Sane, Amadou Mbow, Ibrahima Traore, Nicol...   \n",
       "4  Abigail Oliver, Andrea Libman, Briana Buckmast...   \n",
       "\n",
       "                    country         date_added  release_year rating  \\\n",
       "0               South Korea  November 30, 2019          2019  TV-14   \n",
       "1                       NaN  November 30, 2019          2019   TV-G   \n",
       "2                     India  November 30, 2019          2019  TV-14   \n",
       "3  France, Senegal, Belgium  November 29, 2019          2019  TV-14   \n",
       "4    Canada, United Kingdom                NaN          2019   TV-Y   \n",
       "\n",
       "    duration                                          listed_in  \\\n",
       "0   1 Season  International TV Shows, Korean TV Shows, Roman...   \n",
       "1     67 min                Documentaries, International Movies   \n",
       "2    135 min             Comedies, Dramas, International Movies   \n",
       "3    106 min   Dramas, Independent Movies, International Movies   \n",
       "4  2 Seasons                                           Kids' TV   \n",
       "\n",
       "                                         description     type  \n",
       "0  Brought together by meaningful meals in the pa...  TV Show  \n",
       "1  From Sierra de las Minas to Esquipulas, explor...    Movie  \n",
       "2  A goofy copywriter unwittingly convinces the I...    Movie  \n",
       "3  Arranged to marry a rich man, young Ada is cru...    Movie  \n",
       "4  Lovable pug Chip starts kindergarten, makes ne...  TV Show  "
      ]
     },
     "execution_count": 9,
     "metadata": {},
     "output_type": "execute_result"
    }
   ],
   "source": [
    "df.head()"
   ]
  },
  {
   "cell_type": "markdown",
   "metadata": {},
   "source": [
    "### Amount of shows compared to the amount of movies"
   ]
  },
  {
   "cell_type": "code",
   "execution_count": 4,
   "metadata": {},
   "outputs": [
    {
     "data": {
      "text/plain": [
       "<AxesSubplot:ylabel='type'>"
      ]
     },
     "execution_count": 4,
     "metadata": {},
     "output_type": "execute_result"
    },
    {
     "data": {
      "image/png": "[encoded data removed]",
      "text/plain": [
       "<Figure size 432x288 with 1 Axes>"
      ]
     },
     "metadata": {},
     "output_type": "display_data"
    }
   ],
   "source": [
    "#amount of movies and tv shows\n",
    "amount_of_shows = df['type'].value_counts()\n",
    "amount_of_shows.plot(kind='pie', autopct='%1.1f%%')"
   ]
  },
  {
   "cell_type": "markdown",
   "metadata": {},
   "source": [
    "### Number of shows and movies based on their ratings"
   ]
  },
  {
   "cell_type": "code",
   "execution_count": 5,
   "metadata": {},
   "outputs": [
    {
     "data": {
      "text/plain": [
       "<AxesSubplot:>"
      ]
     },
     "execution_count": 5,
     "metadata": {},
     "output_type": "execute_result"
    },
    {
     "data": {
      "image/png": "[encoded data removed]",
      "text/plain": [
       "<Figure size 432x288 with 1 Axes>"
      ]
     },
     "metadata": {
      "needs_background": "light"
     },
     "output_type": "display_data"
    }
   ],
   "source": [
    "ratingstypes = df['rating'].value_counts()\n",
    "ratingstypes.plot(kind='bar')"
   ]
  },
  {
   "cell_type": "code",
   "execution_count": 6,
   "metadata": {},
   "outputs": [],
   "source": [
    "# ratingstypes.to_csv('ratingstypes.csv')"
   ]
  },
  {
   "cell_type": "markdown",
   "metadata": {},
   "source": [
    "### How many movies and shows released per year"
   ]
  },
  {
   "cell_type": "code",
   "execution_count": 44,
   "metadata": {},
   "outputs": [
    {
     "data": {
      "text/plain": [
       "2005      52\n",
       "2006      57\n",
       "2007      61\n",
       "2008     102\n",
       "2009     106\n",
       "2011     127\n",
       "2010     137\n",
       "2012     174\n",
       "2013     232\n",
       "2014     281\n",
       "2015     502\n",
       "2019     762\n",
       "2016     818\n",
       "2017     928\n",
       "2018    1040\n",
       "Name: release_year, dtype: int64"
      ]
     },
     "execution_count": 44,
     "metadata": {},
     "output_type": "execute_result"
    }
   ],
   "source": [
    "release_year = df['release_year'].value_counts()\n",
    "release_year.sort_values(ascending=True).tail(15)"
   ]
  },
  {
   "cell_type": "code",
   "execution_count": 45,
   "metadata": {},
   "outputs": [],
   "source": [
    "release_year.sort_values(ascending=True).tail(10).to_csv('release_year.csv')"
   ]
  },
  {
   "cell_type": "code",
   "execution_count": 35,
   "metadata": {},
   "outputs": [],
   "source": [
    "shows=df[df['type']=='TV Show']\n",
    "movies=df[df['type']=='Movie']"
   ]
  },
  {
   "cell_type": "code",
   "execution_count": 47,
   "metadata": {},
   "outputs": [],
   "source": [
    "movies_release = movies['release_year'].value_counts()\n",
    "x = movies_release.sort_values(ascending=True).tail(10)\n",
    "x.to_csv('movies_release.csv')"
   ]
  },
  {
   "cell_type": "code",
   "execution_count": 48,
   "metadata": {},
   "outputs": [],
   "source": [
    "shows_release = shows['release_year'].value_counts()\n",
    "x = shows_release.sort_values(ascending=True).tail(10)\n",
    "x.to_csv('shows_release.csv')"
   ]
  },
  {
   "cell_type": "markdown",
   "metadata": {},
   "source": [
    "### Number of shows and movies per country"
   ]
  },
  {
   "cell_type": "code",
   "execution_count": 10,
   "metadata": {},
   "outputs": [],
   "source": [
    "df['country'] = df['country'].replace(np.nan, 'Unknown')"
   ]
  },
  {
   "cell_type": "code",
   "execution_count": 11,
   "metadata": {},
   "outputs": [],
   "source": [
    "country_codes = {\n",
    "    'afghanistan': 'AFG',\n",
    "    'albania': 'ALB',\n",
    "    'algeria': 'DZA',\n",
    "    'american samoa': 'ASM',\n",
    "    'andorra': 'AND',\n",
    "    'angola': 'AGO',\n",
    "    'anguilla': 'AIA',\n",
    "    'antigua and barbuda': 'ATG',\n",
    "    'argentina': 'ARG',\n",
    "    'armenia': 'ARM',\n",
    "    'aruba': 'ABW',\n",
    "    'australia': 'AUS',\n",
    "    'austria': 'AUT',\n",
    "    'azerbaijan': 'AZE',\n",
    "    'bahamas': 'BHM',\n",
    "    'bahrain': 'BHR',\n",
    "    'bangladesh': 'BGD',\n",
    "    'barbados': 'BRB',\n",
    "    'belarus': 'BLR',\n",
    "    'belgium': 'BEL',\n",
    "    'belize': 'BLZ',\n",
    "    'benin': 'BEN',\n",
    "    'bermuda': 'BMU',\n",
    "    'bhutan': 'BTN',\n",
    "    'bolivia': 'BOL',\n",
    "    'bosnia and herzegovina': 'BIH',\n",
    "    'botswana': 'BWA',\n",
    "    'brazil': 'BRA',\n",
    "    'british virgin islands': 'VGB',\n",
    "    'brunei': 'BRN',\n",
    "    'bulgaria': 'BGR',\n",
    "    'burkina faso': 'BFA',\n",
    "    'burma': 'MMR',\n",
    "    'burundi': 'BDI',\n",
    "    'cabo verde': 'CPV',\n",
    "    'cambodia': 'KHM',\n",
    "    'cameroon': 'CMR',\n",
    "    'canada': 'CAN',\n",
    "    'cayman islands': 'CYM',\n",
    "    'central african republic': 'CAF',\n",
    "    'chad': 'TCD',\n",
    "    'chile': 'CHL',\n",
    "    'china': 'CHN',\n",
    "    'colombia': 'COL',\n",
    "    'comoros': 'COM',\n",
    "    'congo democratic': 'COD',\n",
    "    'Congo republic': 'COG',\n",
    "    'cook islands': 'COK',\n",
    "    'costa rica': 'CRI',\n",
    "    \"cote d'ivoire\": 'CIV',\n",
    "    'croatia': 'HRV',\n",
    "    'cuba': 'CUB',\n",
    "    'curacao': 'CUW',\n",
    "    'cyprus': 'CYP',\n",
    "    'czech republic': 'CZE',\n",
    "    'denmark': 'DNK',\n",
    "    'djibouti': 'DJI',\n",
    "    'dominica': 'DMA',\n",
    "    'dominican republic': 'DOM',\n",
    "    'ecuador': 'ECU',\n",
    "    'egypt': 'EGY',\n",
    "    'el salvador': 'SLV',\n",
    "    'equatorial guinea': 'GNQ',\n",
    "    'eritrea': 'ERI',\n",
    "    'estonia': 'EST',\n",
    "    'ethiopia': 'ETH',\n",
    "    'falkland islands': 'FLK',\n",
    "    'faroe islands': 'FRO',\n",
    "    'fiji': 'FJI',\n",
    "    'finland': 'FIN',\n",
    "    'france': 'FRA',\n",
    "    'french polynesia': 'PYF',\n",
    "    'gabon': 'GAB',\n",
    "    'gambia, the': 'GMB',\n",
    "    'georgia': 'GEO',\n",
    "    'germany': 'DEU',\n",
    "    'ghana': 'GHA',\n",
    "    'gibraltar': 'GIB',\n",
    "    'greece': 'GRC',\n",
    "    'greenland': 'GRL',\n",
    "    'grenada': 'GRD',\n",
    "    'guam': 'GUM',\n",
    "    'guatemala': 'GTM',\n",
    "    'guernsey': 'GGY',\n",
    "    'guinea-bissau': 'GNB',\n",
    "    'guinea': 'GIN',\n",
    "    'guyana': 'GUY',\n",
    "    'haiti': 'HTI',\n",
    "    'honduras': 'HND',\n",
    "    'hong kong': 'HKG',\n",
    "    'hungary': 'HUN',\n",
    "    'iceland': 'ISL',\n",
    "    'india': 'IND',\n",
    "    'indonesia': 'IDN',\n",
    "    'iran': 'IRN',\n",
    "    'iraq': 'IRQ',\n",
    "    'ireland': 'IRL',\n",
    "    'isle of man': 'IMN',\n",
    "    'israel': 'ISR',\n",
    "    'italy': 'ITA',\n",
    "    'jamaica': 'JAM',\n",
    "    'japan': 'JPN',\n",
    "    'jersey': 'JEY',\n",
    "    'jordan': 'JOR',\n",
    "    'kazakhstan': 'KAZ',\n",
    "    'kenya': 'KEN',\n",
    "    'kiribati': 'KIR',\n",
    "    'north korea': 'PRK',\n",
    "    'south korea': 'KOR',\n",
    "    'kosovo': 'KSV',\n",
    "    'kuwait': 'KWT',\n",
    "    'kyrgyzstan': 'KGZ',\n",
    "    'laos': 'LAO',\n",
    "    'latvia': 'LVA',\n",
    "    'lebanon': 'LBN',\n",
    "    'lesotho': 'LSO',\n",
    "    'liberia': 'LBR',\n",
    "    'libya': 'LBY',\n",
    "    'liechtenstein': 'LIE',\n",
    "    'lithuania': 'LTU',\n",
    "    'luxembourg': 'LUX',\n",
    "    'macau': 'MAC',\n",
    "    'macedonia': 'MKD',\n",
    "    'madagascar': 'MDG',\n",
    "    'malawi': 'MWI',\n",
    "    'malaysia': 'MYS',\n",
    "    'maldives': 'MDV',\n",
    "    'mali': 'MLI',\n",
    "    'malta': 'MLT',\n",
    "    'marshall islands': 'MHL',\n",
    "    'mauritania': 'MRT',\n",
    "    'mauritius': 'MUS',\n",
    "    'mexico': 'MEX',\n",
    "    'micronesia': 'FSM',\n",
    "    'moldova': 'MDA',\n",
    "    'monaco': 'MCO',\n",
    "    'mongolia': 'MNG',\n",
    "    'montenegro': 'MNE',\n",
    "    'morocco': 'MAR',\n",
    "    'mozambique': 'MOZ',\n",
    "    'namibia': 'NAM',\n",
    "    'nepal': 'NPL',\n",
    "    'netherlands': 'NLD',\n",
    "    'new caledonia': 'NCL',\n",
    "    'new zealand': 'NZL',\n",
    "    'nicaragua': 'NIC',\n",
    "    'nigeria': 'NGA',\n",
    "    'niger': 'NER',\n",
    "    'niue': 'NIU',\n",
    "    'northern mariana islands': 'MNP',\n",
    "    'norway': 'NOR',\n",
    "    'oman': 'OMN',\n",
    "    'pakistan': 'PAK',\n",
    "    'palau': 'PLW',\n",
    "    'panama': 'PAN',\n",
    "    'papua new guinea': 'PNG',\n",
    "    'paraguay': 'PRY',\n",
    "    'peru': 'PER',\n",
    "    'philippines': 'PHL',\n",
    "    'poland': 'POL',\n",
    "    'portugal': 'PRT',\n",
    "    'puerto rico': 'PRI',\n",
    "    'qatar': 'QAT',\n",
    "    'romania': 'ROU',\n",
    "    'russia': 'RUS',\n",
    "    'rwanda': 'RWA',\n",
    "    'saint kitts and nevis': 'KNA',\n",
    "    'saint lucia': 'LCA',\n",
    "    'saint martin': 'MAF',\n",
    "    'saint pierre and miquelon': 'SPM',\n",
    "    'saint vincent and the grenadines': 'VCT',\n",
    "    'samoa': 'WSM',\n",
    "    'san marino': 'SMR',\n",
    "    'sao tome and principe': 'STP',\n",
    "    'saudi arabia': 'SAU',\n",
    "    'senegal': 'SEN',\n",
    "    'serbia': 'SRB',\n",
    "    'seychelles': 'SYC',\n",
    "    'sierra leone': 'SLE',\n",
    "    'singapore': 'SGP',\n",
    "    'sint maarten': 'SXM',\n",
    "    'slovakia': 'SVK',\n",
    "    'slovenia': 'SVN',\n",
    "    'solomon islands': 'SLB',\n",
    "    'somalia': 'SOM',\n",
    "    'south africa': 'ZAF',\n",
    "    'south sudan': 'SSD',\n",
    "    'spain': 'ESP',\n",
    "    'sri lanka': 'LKA',\n",
    "    'sudan': 'SDN',\n",
    "    'suriname': 'SUR',\n",
    "    'swaziland': 'SWZ',\n",
    "    'sweden': 'SWE',\n",
    "    'switzerland': 'CHE',\n",
    "    'syria': 'SYR',\n",
    "    'taiwan': 'TWN',\n",
    "    'tajikistan': 'TJK',\n",
    "    'tanzania': 'TZA',\n",
    "    'thailand': 'THA',\n",
    "    'timor-leste': 'TLS',\n",
    "    'togo': 'TGO',\n",
    "    'tonga': 'TON',\n",
    "    'trinidad and tobago': 'TTO',\n",
    "    'tunisia': 'TUN',\n",
    "    'turkey': 'TUR',\n",
    "    'turkmenistan': 'TKM',\n",
    "    'tuvalu': 'TUV',\n",
    "    'uganda': 'UGA',\n",
    "    'ukraine': 'UKR',\n",
    "    'united arab emirates': 'ARE',\n",
    "    'united kingdom': 'GBR',\n",
    "    'united states': 'USA',\n",
    "    'uruguay': 'URY',\n",
    "    'uzbekistan': 'UZB',\n",
    "    'vanuatu': 'VUT',\n",
    "    'venezuela': 'VEN',\n",
    "    'vietnam': 'VNM',\n",
    "    'virgin islands': 'VGB',\n",
    "    'west bank': 'WBG',\n",
    "    'yemen': 'YEM',\n",
    "    'zambia': 'ZMB',\n",
    "    'zimbabwe': 'ZWE'\n",
    "}"
   ]
  },
  {
   "cell_type": "code",
   "execution_count": 12,
   "metadata": {},
   "outputs": [],
   "source": [
    "from collections import Counter\n",
    "country_with_code, country = {}, {}\n",
    "shows_countries = \", \".join(df['country'].dropna()).split(\", \")\n",
    "for c,v in dict(Counter(shows_countries)).items():\n",
    "    code = \"\"\n",
    "    if c.lower() in country_codes:\n",
    "        code = country_codes[c.lower()]\n",
    "    country_with_code[code] = v\n",
    "    country[c] = v"
   ]
  },
  {
   "cell_type": "code",
   "execution_count": 13,
   "metadata": {},
   "outputs": [],
   "source": [
    "countries = pd.DataFrame.from_dict(country, orient='index')\n",
    "countries.sort_values(by=0, ascending=False, inplace=True)"
   ]
  },
  {
   "cell_type": "code",
   "execution_count": 14,
   "metadata": {},
   "outputs": [],
   "source": [
    "# countries.to_csv(\"countries.csv\")"
   ]
  },
  {
   "cell_type": "markdown",
   "metadata": {},
   "source": [
    "### Number of shows in accordance to the amount of seasons that they have"
   ]
  },
  {
   "cell_type": "code",
   "execution_count": 15,
   "metadata": {},
   "outputs": [],
   "source": [
    "seasons = shows.groupby(['duration']).count().reset_index()\n",
    "seasons = seasons[['duration', 'show_id']].sort_values(by=['show_id'], ascending=False)\n",
    "# seasons.to_csv(\"seasons.csv\")"
   ]
  },
  {
   "cell_type": "markdown",
   "metadata": {},
   "source": [
    "### Finding out the most popular genres"
   ]
  },
  {
   "cell_type": "code",
   "execution_count": 16,
   "metadata": {},
   "outputs": [],
   "source": [
    "col = \"listed_in\"\n",
    "categories = \", \".join(df['listed_in']).split(\", \")\n",
    "counter_list = Counter(categories).most_common(50)\n",
    "labels = [_[0] for _ in counter_list][::-1]\n",
    "values = [_[1] for _ in counter_list][::-1]"
   ]
  },
  {
   "cell_type": "code",
   "execution_count": 17,
   "metadata": {},
   "outputs": [],
   "source": [
    "labels = pd.DataFrame(labels)\n",
    "values = pd.DataFrame(values)"
   ]
  },
  {
   "cell_type": "code",
   "execution_count": 18,
   "metadata": {},
   "outputs": [],
   "source": [
    "genres = pd.concat([labels, values], axis=1)"
   ]
  },
  {
   "cell_type": "code",
   "execution_count": 19,
   "metadata": {},
   "outputs": [],
   "source": [
    "cols = ['genre', 'count']\n",
    "genres.columns = cols"
   ]
  },
  {
   "cell_type": "code",
   "execution_count": 20,
   "metadata": {},
   "outputs": [],
   "source": [
    "genres.set_index('genre', inplace=True)"
   ]
  },
  {
   "cell_type": "code",
   "execution_count": 21,
   "metadata": {},
   "outputs": [],
   "source": [
    "genres.sort_values(by=['count'], ascending=False, inplace=True)"
   ]
  },
  {
   "cell_type": "code",
   "execution_count": 22,
   "metadata": {},
   "outputs": [],
   "source": [
    "genres.head(10).to_csv(\"top10genres.csv\")"
   ]
  },
  {
   "cell_type": "markdown",
   "metadata": {},
   "source": [
    "### Stand Up Comedies "
   ]
  },
  {
   "cell_type": "code",
   "execution_count": 23,
   "metadata": {},
   "outputs": [
    {
     "data": {
      "text/plain": [
       "2019    52\n",
       "2018    73\n",
       "2017    66\n",
       "2016    38\n",
       "2015    19\n",
       "2014    10\n",
       "2013     9\n",
       "2012    12\n",
       "2011     6\n",
       "2010     3\n",
       "Name: release_year, dtype: int64"
      ]
     },
     "execution_count": 23,
     "metadata": {},
     "output_type": "execute_result"
    }
   ],
   "source": [
    "tag = \"Stand-Up Comedy\"\n",
    "df[\"relevant\"] = df['listed_in'].fillna(\"\").apply(lambda x : 1 if tag.lower() in x.lower() else 0)\n",
    "small = df[df[\"relevant\"] == 1]\n",
    "# small[small[\"country\"] == \"United States\"][[\"title\", \"country\",\"release_year\"]]\n",
    "standup_by_country = small['country'].value_counts()\n",
    "# stand up comedies by release year\n",
    "standup_by_year = small['release_year'].value_counts()\n",
    "standup_by_year = standup_by_year.sort_index(ascending=False)\n",
    "standup_by_year.head(10)"
   ]
  },
  {
   "cell_type": "code",
   "execution_count": 24,
   "metadata": {},
   "outputs": [],
   "source": [
    "standup_by_country.to_csv(\"standup_by_country.csv\")\n",
    "standup_by_year.head(10).to_csv(\"standup_by_year.csv\")"
   ]
  },
  {
   "cell_type": "code",
   "execution_count": null,
   "metadata": {},
   "outputs": [],
   "source": []
  }
 ],
 "metadata": {
  "interpreter": {
   "hash": "ee5cc6fef2d70a7e71ee3826687cbd150f18158e0b1eef11d4f4f92bb920e304"
  },
  "kernelspec": {
   "display_name": "Python 3.9.7 64-bit",
   "language": "python",
   "name": "python3"
  },
  "language_info": {
   "codemirror_mode": {
    "name": "ipython",
    "version": 3
   },
   "file_extension": ".py",
   "mimetype": "text/x-python",
   "name": "python",
   "nbconvert_exporter": "python",
   "pygments_lexer": "ipython3",
   "version": "3.9.7"
  },
  "orig_nbformat": 4
 },
 "nbformat": 4,
 "nbformat_minor": 2
}
